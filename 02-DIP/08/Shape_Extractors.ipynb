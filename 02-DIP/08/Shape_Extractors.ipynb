{
 "cells": [
  {
   "cell_type": "code",
   "execution_count": 1,
   "id": "75115b58",
   "metadata": {},
   "outputs": [],
   "source": [
    "import cv2 \n",
    "import numpy as np "
   ]
  },
  {
   "cell_type": "code",
   "execution_count": 2,
   "id": "58c59fd7",
   "metadata": {},
   "outputs": [],
   "source": [
    "img = cv2.imread('media/road/road_4.jpg', cv2.IMREAD_COLOR)\n",
    "gray = cv2.cvtColor(img, cv2.COLOR_BGR2GRAY)"
   ]
  },
  {
   "cell_type": "code",
   "execution_count": 3,
   "id": "3ad47622",
   "metadata": {},
   "outputs": [],
   "source": [
    "#cv2.imshow('original_road_img', gray)\n",
    "#cv2.waitKey(0)\n",
    "#cv2.destroyAllWindows()"
   ]
  },
  {
   "cell_type": "code",
   "execution_count": 4,
   "id": "8c320d2c",
   "metadata": {},
   "outputs": [],
   "source": [
    "img_gaussian = cv2.GaussianBlur(gray, (5, 5), 0)\n",
    "edges = cv2.Canny(img_gaussian, 190, 200)\n",
    "#cv2.imshow('detected_edges_canny', edges)\n",
    "#cv2.waitKey(0)\n",
    "#cv2.destroyAllWindows()"
   ]
  },
  {
   "cell_type": "code",
   "execution_count": 5,
   "id": "89ca90fe",
   "metadata": {},
   "outputs": [],
   "source": [
    "#HoughTranfrom for finding lines. \n",
    "lines = cv2.HoughLines(edges, 1, np.pi/180, 110)\n",
    "\n",
    "L = 300\n",
    "for line in lines:\n",
    "    #print(\"l\", line)\n",
    "    #print(\"ll\" , line[0])\n",
    "    rho, theta = line[0]\n",
    "    \n",
    "    a = np.cos(theta)\n",
    "    b = np.sin(theta)\n",
    "    \n",
    "    x0 = rho*a\n",
    "    y0 = rho * b\n",
    "    \n",
    "    x1 = int(x0 + L*b)\n",
    "    y1 = int(y0 - L*a)\n",
    "    \n",
    "    x2 = int(x0 - L*b)\n",
    "    y2 = int(y0 + L*a)\n",
    "    \n",
    "    #cv2.line(img, (x1, y1), (x2, y2), (255, 0, 0), 2)\n",
    "\n",
    "#cv2.imshow('detected_lines', img)\n",
    "#cv2.waitKey(0)\n",
    "#cv2.destroyAllWindows()   \n",
    "    \n"
   ]
  },
  {
   "cell_type": "code",
   "execution_count": 6,
   "id": "3a864a06",
   "metadata": {},
   "outputs": [],
   "source": [
    "#Hough Linep\n",
    "\n",
    "img_2 = img.copy()\n",
    "\n",
    "lines_p = cv2.HoughLinesP(edges, 1, np.pi/180, 110, minLineLength=10, maxLineGap=250)\n",
    "\n",
    "for line in lines_p:\n",
    "    x1, y1, x2, y2 = line[0]\n",
    "    cv2.line(img_2, (x1, y1), (x2, y2), (255, 0, 0), 3)\n",
    "    "
   ]
  },
  {
   "cell_type": "code",
   "execution_count": 7,
   "id": "0f545be9",
   "metadata": {},
   "outputs": [],
   "source": [
    "#cv2.imshow('detected_linesp', img_2)\n",
    "#cv2.waitKey(0)\n",
    "#cv2.destroyAllWindows() "
   ]
  },
  {
   "cell_type": "code",
   "execution_count": 8,
   "id": "0f102ac4",
   "metadata": {},
   "outputs": [],
   "source": [
    "#hough circle\n",
    "img_eye = cv2.imread('media/eyes/eye_2.jpg', cv2.IMREAD_COLOR)\n",
    "gray_eye = cv2.cvtColor(img_eye, cv2.COLOR_BGR2GRAY)\n",
    "#cv2.imshow('Hough_circle', gray_eye)\n",
    "#cv2.waitKey(0)\n",
    "#cv2.destroyAllWindows() "
   ]
  },
  {
   "cell_type": "code",
   "execution_count": 9,
   "id": "0eddea75",
   "metadata": {},
   "outputs": [],
   "source": [
    "gauss_img = cv2.GaussianBlur(gray_eye, (5, 5), 0)\n",
    "circles = cv2.HoughCircles(gauss_img, cv2.HOUGH_GRADIENT, 1, img.shape[0]/60,\n",
    "                           param1=200, param2=20, minRadius=40, maxRadius=100)\n",
    "\n"
   ]
  },
  {
   "cell_type": "code",
   "execution_count": 10,
   "id": "7f044ed1",
   "metadata": {},
   "outputs": [],
   "source": [
    "\n",
    "if circles is not None:\n",
    "    circles = np.uint16(np.around(circles))\n",
    "    for i in circles[0]:\n",
    "        cv2.circle(img_eye, (i[0], i[1]), i[2], (255, 0, 0), 2)\n",
    "\n",
    "cv2.imshow('Hough_circle', img_eye)\n",
    "cv2.waitKey(0)\n",
    "cv2.destroyAllWindows() "
   ]
  },
  {
   "cell_type": "code",
   "execution_count": 11,
   "id": "90ab1b74",
   "metadata": {},
   "outputs": [],
   "source": [
    "import cv2\n",
    "import numpy as np"
   ]
  },
  {
   "cell_type": "code",
   "execution_count": 13,
   "id": "beb1c0dd",
   "metadata": {},
   "outputs": [],
   "source": [
    "img_contour = cv2.imread('media/pens/hand.jpg')\n",
    "gray_contour = cv2.cvtColor(img_contour, cv2.COLOR_BGR2GRAY)\n",
    "\n",
    "gauss_contour = cv2.GaussianBlur(gray_contour, (5, 5), 0)\n",
    "edges_contour = cv2.Canny(gauss_contour, 190, 200)\n",
    "\n",
    "contours, hierarchy = cv2.findContours(edges_contour, cv2.RETR_EXTERNAL, cv2.CHAIN_APPROX_NONE)\n",
    "cv2.drawContours(img_contour, contours, -1, (255, 0, 0), 3)\n",
    "cv2.imshow('image_with_contours', img_contour)\n",
    "cv2.waitKey(0)\n",
    "cv2.destroyAllWindows() "
   ]
  },
  {
   "cell_type": "code",
   "execution_count": null,
   "id": "5af3d9e1",
   "metadata": {},
   "outputs": [],
   "source": [
    "hierarchy"
   ]
  },
  {
   "cell_type": "code",
   "execution_count": null,
   "id": "841bc711",
   "metadata": {},
   "outputs": [],
   "source": []
  }
 ],
 "metadata": {
  "kernelspec": {
   "display_name": "Python 3 (ipykernel)",
   "language": "python",
   "name": "python3"
  },
  "language_info": {
   "codemirror_mode": {
    "name": "ipython",
    "version": 3
   },
   "file_extension": ".py",
   "mimetype": "text/x-python",
   "name": "python",
   "nbconvert_exporter": "python",
   "pygments_lexer": "ipython3",
   "version": "3.10.12"
  }
 },
 "nbformat": 4,
 "nbformat_minor": 5
}
