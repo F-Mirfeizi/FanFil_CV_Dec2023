{
 "cells": [
  {
   "cell_type": "code",
   "execution_count": null,
   "id": "353ba2b4",
   "metadata": {},
   "outputs": [],
   "source": [
    "import cv2\n",
    "import numpy as np "
   ]
  },
  {
   "cell_type": "code",
   "execution_count": null,
   "id": "8477d76a",
   "metadata": {},
   "outputs": [],
   "source": []
  },
  {
   "cell_type": "code",
   "execution_count": null,
   "id": "b96b0e8b",
   "metadata": {},
   "outputs": [],
   "source": [
    "img1 = cv2.imread('media/DL_Vision_Systems_1.jpg', 0)\n",
    "img2 = cv2.imread('media/DL_Vision_Systems_2.jpg', 0)\n",
    "\n",
    "img1_resized = cv2.resize(img1, (int(img1.shape[1]*0.7), int(img1.shape[0]*0.7)))\n",
    "img2_resized = cv2.resize(img2, (int(img2.shape[1]*0.7), int(img2.shape[0]*0.7)))"
   ]
  },
  {
   "cell_type": "code",
   "execution_count": null,
   "id": "f31eff34",
   "metadata": {},
   "outputs": [],
   "source": [
    "#cv2.imshow('index', img2_resized)\n",
    "#cv2.waitKey(0)\n",
    "#cv2.destroyAllWindows()"
   ]
  },
  {
   "cell_type": "code",
   "execution_count": null,
   "id": "3ac79d17",
   "metadata": {},
   "outputs": [],
   "source": [
    "#SIFT\n",
    "sift = cv2.SIFT_create()"
   ]
  },
  {
   "cell_type": "code",
   "execution_count": null,
   "id": "c8877869",
   "metadata": {},
   "outputs": [],
   "source": [
    "keypoint1, descriptor1 = sift.detectAndCompute(img1_resized, mask=None)\n",
    "keypoint2, descriptor2 = sift.detectAndCompute(img2_resized, mask=None)"
   ]
  },
  {
   "cell_type": "code",
   "execution_count": null,
   "id": "fe9c4bbe",
   "metadata": {},
   "outputs": [],
   "source": [
    "img1_resized_kp = cv2.drawKeypoints(img1_resized, keypoint1, 0, (255, 0, 0), flags= cv2.DRAW_MATCHES_FLAGS_DRAW_RICH_KEYPOINTS)\n",
    "img2_resized_kp = cv2.drawKeypoints(img2_resized, keypoint2, 0, (255, 0, 0), flags= cv2.DRAW_MATCHES_FLAGS_DRAW_RICH_KEYPOINTS)\n"
   ]
  },
  {
   "cell_type": "code",
   "execution_count": null,
   "id": "5dda1529",
   "metadata": {},
   "outputs": [],
   "source": [
    "#cv2.imshow('img1_kp', img1_resized_kp)\n",
    "#cv2.imshow('img2_kp', img2_resized_kp)\n",
    "#cv2.waitKey(0)\n",
    "#cv2.destroyAllWindows()"
   ]
  },
  {
   "cell_type": "code",
   "execution_count": null,
   "id": "b4e90537",
   "metadata": {},
   "outputs": [],
   "source": [
    "#Brute force\n",
    "bf = cv2.BFMatcher(cv2.NORM_L1, crossCheck=True)\n",
    "matches = bf.match(descriptor1, descriptor2)"
   ]
  },
  {
   "cell_type": "code",
   "execution_count": null,
   "id": "476571c0",
   "metadata": {},
   "outputs": [],
   "source": [
    "matches = sorted(matches, key=lambda x:x.distance)\n"
   ]
  },
  {
   "cell_type": "code",
   "execution_count": null,
   "id": "a912e0df",
   "metadata": {},
   "outputs": [],
   "source": [
    "result = cv2.drawMatches(img1_resized, keypoint1, img2_resized, keypoint2, matches[:50], None)\n",
    "#cv2.imshow('match points', result)\n",
    "#cv2.waitKey(0)\n",
    "#cv2.destroyAllWindows()"
   ]
  },
  {
   "cell_type": "code",
   "execution_count": 1,
   "id": "a656cccc",
   "metadata": {},
   "outputs": [],
   "source": [
    "import cv2\n",
    "\n",
    "#Camera\n",
    "cap = cv2.VideoCapture(0)\n",
    "sift =  cv2.SIFT_create()\n",
    "bf = cv2.BFMatcher(cv2.NORM_L1, crossCheck=True)\n",
    "\n",
    "\n",
    "while cap.isOpened:\n",
    "    \n",
    "    ret, frame = cap.read()\n",
    "    img1 = cv2.cvtColor(frame, cv2.COLOR_BGR2GRAY)\n",
    "    img1_resized = cv2.resize(img1, (int(img1.shape[1]*0.7), int(img1.shape[0]*0.7)))\n",
    "    \n",
    "    img2 = cv2.imread('media/DL_Vision_Systems_1.jpg', 0)\n",
    "    img2_resized = cv2.resize(img2, (int(img2.shape[1]*0.7), int(img2.shape[0]*0.7)))\n",
    "\n",
    "    \n",
    "    keypoint1, descriptor1 = sift.detectAndCompute(img1_resized, mask=None)\n",
    "    keypoint2, descriptor2 = sift.detectAndCompute(img2_resized, mask=None) \n",
    "    \n",
    "    #img1_resized_kp = cv2.drawKeypoints(img1_resized, keypoint1, 0, (255, 0, 0), flags= cv2.DRAW_MATCHES_FLAGS_DRAW_RICH_KEYPOINTS)\n",
    "    #img2_resized_kp = cv2.drawKeypoints(img2_resized, keypoint2, 0, (255, 0, 0), flags= cv2.DRAW_MATCHES_FLAGS_DRAW_RICH_KEYPOINTS)\n",
    "\n",
    "    \n",
    "    matches = bf.match(descriptor1, descriptor2)\n",
    "    matches = sorted(matches, key=lambda x:x.distance)\n",
    "\n",
    "    \n",
    "    result = cv2.drawMatches(img1_resized, keypoint1, img2_resized, keypoint2, matches[:50], None)\n",
    "\n",
    "    cv2.imshow('test_camera', result)\n",
    "    \n",
    "    key = cv2.waitKey(1)\n",
    "    if key == ord('q'):\n",
    "        break\n",
    "cap.release()\n",
    "cv2.destroyAllWindows()"
   ]
  },
  {
   "cell_type": "code",
   "execution_count": null,
   "id": "00a6ace9",
   "metadata": {},
   "outputs": [],
   "source": []
  },
  {
   "cell_type": "code",
   "execution_count": null,
   "id": "09199517",
   "metadata": {},
   "outputs": [],
   "source": []
  },
  {
   "cell_type": "code",
   "execution_count": null,
   "id": "78d8ced6",
   "metadata": {},
   "outputs": [],
   "source": []
  },
  {
   "cell_type": "code",
   "execution_count": null,
   "id": "d92c5f4c",
   "metadata": {},
   "outputs": [],
   "source": []
  },
  {
   "cell_type": "code",
   "execution_count": null,
   "id": "ac136914",
   "metadata": {},
   "outputs": [],
   "source": []
  }
 ],
 "metadata": {
  "kernelspec": {
   "display_name": "Python 3 (ipykernel)",
   "language": "python",
   "name": "python3"
  },
  "language_info": {
   "codemirror_mode": {
    "name": "ipython",
    "version": 3
   },
   "file_extension": ".py",
   "mimetype": "text/x-python",
   "name": "python",
   "nbconvert_exporter": "python",
   "pygments_lexer": "ipython3",
   "version": "3.10.12"
  }
 },
 "nbformat": 4,
 "nbformat_minor": 5
}
