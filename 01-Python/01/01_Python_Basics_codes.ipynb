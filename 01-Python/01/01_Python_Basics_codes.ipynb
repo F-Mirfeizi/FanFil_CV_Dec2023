{
 "cells": [
  {
   "cell_type": "code",
   "execution_count": 9,
   "id": "24a744d9",
   "metadata": {},
   "outputs": [
    {
     "name": "stdout",
     "output_type": "stream",
     "text": [
      "He/She is kid!\n"
     ]
    }
   ],
   "source": [
    "#Identation\n",
    "\n",
    "age = 4\n",
    "if(age < 5):\n",
    "    print('He/She is kid!')"
   ]
  },
  {
   "cell_type": "code",
   "execution_count": 12,
   "id": "608fc941",
   "metadata": {},
   "outputs": [],
   "source": [
    "# This is a course for begginers in python. \n"
   ]
  },
  {
   "cell_type": "code",
   "execution_count": 15,
   "id": "6267f01e",
   "metadata": {},
   "outputs": [
    {
     "data": {
      "text/plain": [
       "'\\nsdf\\nasdf\\nsdf\\n'"
      ]
     },
     "execution_count": 15,
     "metadata": {},
     "output_type": "execute_result"
    }
   ],
   "source": [
    "\n",
    "\"\"\"\n",
    "- it \n",
    "- adsf;kj \n",
    "\"\"\""
   ]
  },
  {
   "cell_type": "code",
   "execution_count": 23,
   "id": "c3ffba41",
   "metadata": {},
   "outputs": [
    {
     "name": "stdout",
     "output_type": "stream",
     "text": [
      "the test is passed!\n"
     ]
    }
   ],
   "source": [
    "a = True\n",
    "b = False\n",
    "c = True\n",
    "\n",
    "if (a==True) and (b==False) \\\n",
    "    and (c==True):\n",
    "    print('the test is passed!')"
   ]
  },
  {
   "cell_type": "code",
   "execution_count": 26,
   "id": "db8a0ddc",
   "metadata": {},
   "outputs": [
    {
     "name": "stdout",
     "output_type": "stream",
     "text": [
      "5\n",
      "6\n"
     ]
    }
   ],
   "source": [
    "#identifiers\n",
    "variable = 5 \n",
    "_variable = 6\n",
    "\n",
    "print(variable)\n",
    "print(_variable)"
   ]
  },
  {
   "cell_type": "code",
   "execution_count": 27,
   "id": "a96b9c22",
   "metadata": {},
   "outputs": [
    {
     "name": "stdout",
     "output_type": "stream",
     "text": [
      "<class 'int'>\n",
      "<class 'float'>\n"
     ]
    }
   ],
   "source": [
    "#Object\n",
    "num_1 = 17\n",
    "num_2 = 17.26\n",
    "print(type(num_1))\n",
    "print(type(num_2))"
   ]
  },
  {
   "cell_type": "code",
   "execution_count": 28,
   "id": "b250c397",
   "metadata": {},
   "outputs": [
    {
     "name": "stdout",
     "output_type": "stream",
     "text": [
      "<class 'int'>\n",
      "<class 'float'>\n"
     ]
    }
   ],
   "source": [
    "#Cast\n",
    "int_sample = 12\n",
    "print(type(int_sample))\n",
    "cast_to_float = float(int_sample)\n",
    "print(type(cast_to_float))"
   ]
  },
  {
   "cell_type": "code",
   "execution_count": 29,
   "id": "0b6f517a",
   "metadata": {},
   "outputs": [
    {
     "ename": "ValueError",
     "evalue": "could not convert string to float: 'Computer Vision'",
     "output_type": "error",
     "traceback": [
      "\u001b[0;31m---------------------------------------------------------------------------\u001b[0m",
      "\u001b[0;31mValueError\u001b[0m                                Traceback (most recent call last)",
      "\u001b[0;32m/tmp/ipykernel_14838/2241449803.py\u001b[0m in \u001b[0;36m<module>\u001b[0;34m\u001b[0m\n\u001b[1;32m      1\u001b[0m \u001b[0mstring_sample\u001b[0m \u001b[0;34m=\u001b[0m \u001b[0;34m'Computer Vision'\u001b[0m\u001b[0;34m\u001b[0m\u001b[0;34m\u001b[0m\u001b[0m\n\u001b[0;32m----> 2\u001b[0;31m \u001b[0mprint\u001b[0m\u001b[0;34m(\u001b[0m\u001b[0mfloat\u001b[0m\u001b[0;34m(\u001b[0m\u001b[0mstring_sample\u001b[0m\u001b[0;34m)\u001b[0m\u001b[0;34m)\u001b[0m\u001b[0;34m\u001b[0m\u001b[0;34m\u001b[0m\u001b[0m\n\u001b[0m",
      "\u001b[0;31mValueError\u001b[0m: could not convert string to float: 'Computer Vision'"
     ]
    }
   ],
   "source": [
    "string_sample = 'Computer Vision'\n",
    "#print(float(string_sample))"
   ]
  },
  {
   "cell_type": "code",
   "execution_count": 33,
   "id": "b5bcd903",
   "metadata": {},
   "outputs": [
    {
     "name": "stdout",
     "output_type": "stream",
     "text": [
      "sum:  13\n",
      "sub:  -3\n",
      "power:  390625\n"
     ]
    }
   ],
   "source": [
    "#Arithmetic Ops\n",
    "a = 5\n",
    "b = 8\n",
    "\n",
    "print('sum: ' , a+b)\n",
    "print('sub: ' , a-b)\n",
    "print('power: ' , a ** b)\n"
   ]
  },
  {
   "cell_type": "code",
   "execution_count": 35,
   "id": "9e3b835d",
   "metadata": {},
   "outputs": [
    {
     "name": "stdout",
     "output_type": "stream",
     "text": [
      "10\n",
      "22\n",
      "10648\n"
     ]
    }
   ],
   "source": [
    "#Assignment Ops\n",
    "c = 10\n",
    "print(c)\n",
    "\n",
    "c += 12\n",
    "print(c)\n",
    "\n",
    "\n",
    "c **=3\n",
    "print(c)"
   ]
  },
  {
   "cell_type": "code",
   "execution_count": 39,
   "id": "4a31f787",
   "metadata": {},
   "outputs": [
    {
     "name": "stdout",
     "output_type": "stream",
     "text": [
      "True\n",
      "False\n"
     ]
    }
   ],
   "source": [
    "#Comparision Ops. \n",
    "\n",
    "h = 20\n",
    "g = 10\n",
    "\n",
    "print(h >= g)\n",
    "print( h is g)"
   ]
  },
  {
   "cell_type": "code",
   "execution_count": 45,
   "id": "2ba828ff",
   "metadata": {},
   "outputs": [
    {
     "name": "stdout",
     "output_type": "stream",
     "text": [
      "True\n",
      "aa 15\n",
      "cc 15\n",
      "False\n",
      "aa 20\n",
      "cc 15\n"
     ]
    }
   ],
   "source": [
    "aa = 15 #0x12123923\n",
    "cc = aa #0x12123923\n",
    "\n",
    "print(aa is cc)\n",
    "print('aa', aa)\n",
    "print('cc', cc)\n",
    "\n",
    "aa = 20 #0x12123978\n",
    "print(aa is cc)\n",
    "print('aa', aa)\n",
    "print('cc', cc)"
   ]
  },
  {
   "cell_type": "code",
   "execution_count": 43,
   "id": "0c668183",
   "metadata": {},
   "outputs": [
    {
     "name": "stdout",
     "output_type": "stream",
     "text": [
      "False\n",
      "True\n",
      "False\n"
     ]
    }
   ],
   "source": [
    "v = True\n",
    "m = False \n",
    "\n",
    "print( v and m)\n",
    "print( v or m )\n",
    "print(not v)"
   ]
  },
  {
   "cell_type": "code",
   "execution_count": 47,
   "id": "ea06f6eb",
   "metadata": {},
   "outputs": [
    {
     "name": "stdout",
     "output_type": "stream",
     "text": [
      "12\n",
      "12\n",
      "12\n",
      "15\n"
     ]
    }
   ],
   "source": [
    "aa = bb = 12\n",
    "\n",
    "print(aa)\n",
    "print(bb)\n",
    "\n",
    "bb = 15\n",
    "print(aa)\n",
    "print(bb)"
   ]
  },
  {
   "cell_type": "code",
   "execution_count": 52,
   "id": "b631b705",
   "metadata": {},
   "outputs": [
    {
     "name": "stdout",
     "output_type": "stream",
     "text": [
      "the string is: Ti amo Molto!\n"
     ]
    }
   ],
   "source": [
    "#string\n",
    "\n",
    "\n",
    "s = \"Ti amo Molto!\"\n",
    "print('the string is:' , s)"
   ]
  },
  {
   "cell_type": "code",
   "execution_count": 59,
   "id": "7422113d",
   "metadata": {},
   "outputs": [
    {
     "name": "stdout",
     "output_type": "stream",
     "text": [
      " His age is 50, He is so old\n"
     ]
    }
   ],
   "source": [
    "his_age = 50\n",
    "status = 'old'\n",
    "\n",
    "print(' His age is {0}, He is so {1}'.format(his_age, status))"
   ]
  },
  {
   "cell_type": "code",
   "execution_count": 62,
   "id": "bc802b27",
   "metadata": {},
   "outputs": [
    {
     "name": "stdout",
     "output_type": "stream",
     "text": [
      "78\n",
      "too old\n",
      " His age is 78, He is so too old\n"
     ]
    }
   ],
   "source": [
    "#Input\n",
    "\n",
    "\n",
    "\n",
    "user_age = input()\n",
    "status = input()\n",
    "\n",
    "print(' His age is {0}, He is so {1}'.format(user_age, status))"
   ]
  },
  {
   "cell_type": "code",
   "execution_count": 64,
   "id": "850605d5",
   "metadata": {},
   "outputs": [
    {
     "name": "stdout",
     "output_type": "stream",
     "text": [
      "enter you age: 50\n",
      "<class 'str'>\n",
      "your ticket price is: 50000 toman\n"
     ]
    }
   ],
   "source": [
    "#if\n",
    "age = input('enter you age: ')\n",
    "print(type(age))\n",
    "age = int(age)\n",
    "\n",
    "if (age <= 10):\n",
    "    ticket_price = 1000\n",
    "elif( age <= 20):\n",
    "    ticket_price= 20000\n",
    "else:\n",
    "    ticket_price = 50000\n",
    "    \n",
    "print('your ticket price is: {0} toman'.format(ticket_price))\n",
    "\n",
    "\n"
   ]
  },
  {
   "cell_type": "code",
   "execution_count": 65,
   "id": "8e212149",
   "metadata": {},
   "outputs": [
    {
     "name": "stdout",
     "output_type": "stream",
     "text": [
      "frame_number:  0\n",
      "frame_number:  1\n",
      "frame_number:  2\n",
      "frame_number:  3\n",
      "frame_number:  4\n"
     ]
    }
   ],
   "source": [
    "#while\n",
    "max_num_frame_from_camera = 5\n",
    "counter = 0\n",
    "\n",
    "while counter < max_num_frame_from_camera:\n",
    "    print('frame_number: ', counter)\n",
    "    counter += 1 \n",
    "    \n"
   ]
  },
  {
   "cell_type": "code",
   "execution_count": 66,
   "id": "2e00a023",
   "metadata": {},
   "outputs": [
    {
     "name": "stdout",
     "output_type": "stream",
     "text": [
      "2\n",
      "4\n",
      "6\n",
      "8\n",
      "10\n"
     ]
    }
   ],
   "source": [
    "#for \n",
    "for element in range(2,12,2):\n",
    "    print(element)"
   ]
  },
  {
   "cell_type": "code",
   "execution_count": 67,
   "id": "c52ebb64",
   "metadata": {},
   "outputs": [
    {
     "name": "stdout",
     "output_type": "stream",
     "text": [
      "a\n",
      "b\n",
      "c\n"
     ]
    }
   ],
   "source": [
    "lst = ['a', 'b', 'c']\n",
    "for ch in lst:\n",
    "    print(ch)"
   ]
  },
  {
   "cell_type": "code",
   "execution_count": 69,
   "id": "42f8c3ee",
   "metadata": {},
   "outputs": [
    {
     "name": "stdout",
     "output_type": "stream",
     "text": [
      "3\n"
     ]
    }
   ],
   "source": [
    "lst_empty = [1, 2, 3]\n",
    "print(len(lst_empty))"
   ]
  },
  {
   "cell_type": "code",
   "execution_count": 70,
   "id": "b2e5c934",
   "metadata": {},
   "outputs": [
    {
     "data": {
      "text/plain": [
       "1"
      ]
     },
     "execution_count": 70,
     "metadata": {},
     "output_type": "execute_result"
    }
   ],
   "source": [
    "lst_empty[0]\n",
    "#index, idx, ix"
   ]
  },
  {
   "cell_type": "code",
   "execution_count": 71,
   "id": "bcd8095e",
   "metadata": {},
   "outputs": [
    {
     "data": {
      "text/plain": [
       "3"
      ]
     },
     "execution_count": 71,
     "metadata": {},
     "output_type": "execute_result"
    }
   ],
   "source": [
    "lst_empty[-1]"
   ]
  },
  {
   "cell_type": "code",
   "execution_count": 72,
   "id": "ab92298b",
   "metadata": {},
   "outputs": [
    {
     "data": {
      "text/plain": [
       "2"
      ]
     },
     "execution_count": 72,
     "metadata": {},
     "output_type": "execute_result"
    }
   ],
   "source": [
    "lst_empty[-2]"
   ]
  },
  {
   "cell_type": "code",
   "execution_count": 73,
   "id": "6a7b90fb",
   "metadata": {},
   "outputs": [
    {
     "data": {
      "text/plain": [
       "[5, 8, 98, 25]"
      ]
     },
     "execution_count": 73,
     "metadata": {},
     "output_type": "execute_result"
    }
   ],
   "source": [
    "#mutate!\n",
    "lst_sample = [4, 8, 98, 25]\n",
    "lst_sample[0] = 5\n",
    "lst_sample"
   ]
  },
  {
   "cell_type": "code",
   "execution_count": 74,
   "id": "8f9ac47f",
   "metadata": {},
   "outputs": [
    {
     "data": {
      "text/plain": [
       "[50, 5, 8, 98, 25]"
      ]
     },
     "execution_count": 74,
     "metadata": {},
     "output_type": "execute_result"
    }
   ],
   "source": [
    "lst_sample.insert(0, 50)\n",
    "lst_sample"
   ]
  },
  {
   "cell_type": "code",
   "execution_count": 75,
   "id": "95808243",
   "metadata": {},
   "outputs": [],
   "source": [
    "lst_sample.append(78)"
   ]
  },
  {
   "cell_type": "code",
   "execution_count": 76,
   "id": "c36ccff0",
   "metadata": {},
   "outputs": [
    {
     "data": {
      "text/plain": [
       "[50, 5, 8, 98, 25, 78]"
      ]
     },
     "execution_count": 76,
     "metadata": {},
     "output_type": "execute_result"
    }
   ],
   "source": [
    "lst_sample"
   ]
  },
  {
   "cell_type": "code",
   "execution_count": 77,
   "id": "9c855dab",
   "metadata": {},
   "outputs": [],
   "source": [
    "lst_sample.remove(78)"
   ]
  },
  {
   "cell_type": "code",
   "execution_count": 78,
   "id": "ed97b65c",
   "metadata": {},
   "outputs": [
    {
     "data": {
      "text/plain": [
       "[50, 5, 8, 98, 25]"
      ]
     },
     "execution_count": 78,
     "metadata": {},
     "output_type": "execute_result"
    }
   ],
   "source": [
    "lst_sample"
   ]
  },
  {
   "cell_type": "code",
   "execution_count": 79,
   "id": "9299483d",
   "metadata": {},
   "outputs": [
    {
     "data": {
      "text/plain": [
       "50"
      ]
     },
     "execution_count": 79,
     "metadata": {},
     "output_type": "execute_result"
    }
   ],
   "source": [
    "lst_sample.pop(0)"
   ]
  },
  {
   "cell_type": "code",
   "execution_count": 80,
   "id": "e2b23f45",
   "metadata": {},
   "outputs": [
    {
     "data": {
      "text/plain": [
       "[5, 8, 98, 25]"
      ]
     },
     "execution_count": 80,
     "metadata": {},
     "output_type": "execute_result"
    }
   ],
   "source": [
    "lst_sample"
   ]
  },
  {
   "cell_type": "code",
   "execution_count": 81,
   "id": "46f1811e",
   "metadata": {},
   "outputs": [
    {
     "data": {
      "text/plain": [
       "[5, 8]"
      ]
     },
     "execution_count": 81,
     "metadata": {},
     "output_type": "execute_result"
    }
   ],
   "source": [
    "lst_sample[0:2]"
   ]
  },
  {
   "cell_type": "code",
   "execution_count": 83,
   "id": "55101b08",
   "metadata": {},
   "outputs": [
    {
     "data": {
      "text/plain": [
       "3"
      ]
     },
     "execution_count": 83,
     "metadata": {},
     "output_type": "execute_result"
    }
   ],
   "source": [
    "#Tuple\n",
    "rgb = ('red', 'green', 'blue')\n",
    "len(rgb)"
   ]
  },
  {
   "cell_type": "code",
   "execution_count": 84,
   "id": "57cfc8ea",
   "metadata": {},
   "outputs": [],
   "source": [
    "rgb_fake = ('yellow', 'white')\n",
    "\n",
    "res = rgb + rgb_fake"
   ]
  },
  {
   "cell_type": "code",
   "execution_count": 85,
   "id": "9475fea5",
   "metadata": {},
   "outputs": [
    {
     "data": {
      "text/plain": [
       "('red', 'green', 'blue', 'yellow', 'white')"
      ]
     },
     "execution_count": 85,
     "metadata": {},
     "output_type": "execute_result"
    }
   ],
   "source": [
    "res"
   ]
  },
  {
   "cell_type": "code",
   "execution_count": 86,
   "id": "d9bb3840",
   "metadata": {},
   "outputs": [
    {
     "data": {
      "text/plain": [
       "tuple"
      ]
     },
     "execution_count": 86,
     "metadata": {},
     "output_type": "execute_result"
    }
   ],
   "source": [
    "type(res)"
   ]
  },
  {
   "cell_type": "code",
   "execution_count": 88,
   "id": "60eb8fe6",
   "metadata": {},
   "outputs": [
    {
     "data": {
      "text/plain": [
       "tuple"
      ]
     },
     "execution_count": 88,
     "metadata": {},
     "output_type": "execute_result"
    }
   ],
   "source": [
    "kh = ('tt',)\n",
    "type(kh)"
   ]
  },
  {
   "cell_type": "code",
   "execution_count": 89,
   "id": "21d4311c",
   "metadata": {},
   "outputs": [
    {
     "data": {
      "text/plain": [
       "dict"
      ]
     },
     "execution_count": 89,
     "metadata": {},
     "output_type": "execute_result"
    }
   ],
   "source": [
    "#Dictionary\n",
    "my_dictionary  = {}\n",
    "type(my_dictionary)"
   ]
  },
  {
   "cell_type": "code",
   "execution_count": 90,
   "id": "38b65aa8",
   "metadata": {},
   "outputs": [
    {
     "data": {
      "text/plain": [
       "'John'"
      ]
     },
     "execution_count": 90,
     "metadata": {},
     "output_type": "execute_result"
    }
   ],
   "source": [
    "user = {'f_name':'John', 'l_name':'Kerby', 'age': 15}\n",
    "user['f_name']"
   ]
  },
  {
   "cell_type": "code",
   "execution_count": 91,
   "id": "c320ccaa",
   "metadata": {},
   "outputs": [
    {
     "data": {
      "text/plain": [
       "15"
      ]
     },
     "execution_count": 91,
     "metadata": {},
     "output_type": "execute_result"
    }
   ],
   "source": [
    "age = user.get('age')\n",
    "age"
   ]
  },
  {
   "cell_type": "code",
   "execution_count": 94,
   "id": "58756587",
   "metadata": {},
   "outputs": [
    {
     "name": "stdout",
     "output_type": "stream",
     "text": [
      "John\n",
      "John\n",
      "John\n"
     ]
    }
   ],
   "source": [
    "for key in user:\n",
    "    first_name = user.get('f_name')\n",
    "    print(first_name)"
   ]
  },
  {
   "cell_type": "code",
   "execution_count": 95,
   "id": "a37f63fe",
   "metadata": {},
   "outputs": [
    {
     "name": "stdout",
     "output_type": "stream",
     "text": [
      "John\n",
      "Kerby\n",
      "15\n"
     ]
    }
   ],
   "source": [
    "for value in user.values():\n",
    "    print(value)"
   ]
  },
  {
   "cell_type": "code",
   "execution_count": 96,
   "id": "9454758f",
   "metadata": {},
   "outputs": [],
   "source": [
    "del user['age']"
   ]
  },
  {
   "cell_type": "code",
   "execution_count": 97,
   "id": "ca3ebfb0",
   "metadata": {},
   "outputs": [
    {
     "data": {
      "text/plain": [
       "{'f_name': 'John', 'l_name': 'Kerby'}"
      ]
     },
     "execution_count": 97,
     "metadata": {},
     "output_type": "execute_result"
    }
   ],
   "source": [
    "user"
   ]
  },
  {
   "cell_type": "code",
   "execution_count": 100,
   "id": "f3182806",
   "metadata": {},
   "outputs": [
    {
     "name": "stdout",
     "output_type": "stream",
     "text": [
      "<class 'dict'>\n",
      "<class 'tuple'>\n"
     ]
    }
   ],
   "source": [
    "simple_dict = {}\n",
    "simple_tuple = ()\n",
    "\n",
    "print(type(simple_dict))\n",
    "print(type(simple_tuple))"
   ]
  },
  {
   "cell_type": "code",
   "execution_count": null,
   "id": "9aedb96e",
   "metadata": {},
   "outputs": [],
   "source": []
  }
 ],
 "metadata": {
  "kernelspec": {
   "display_name": "Python 3 (ipykernel)",
   "language": "python",
   "name": "python3"
  },
  "language_info": {
   "codemirror_mode": {
    "name": "ipython",
    "version": 3
   },
   "file_extension": ".py",
   "mimetype": "text/x-python",
   "name": "python",
   "nbconvert_exporter": "python",
   "pygments_lexer": "ipython3",
   "version": "3.10.12"
  }
 },
 "nbformat": 4,
 "nbformat_minor": 5
}
