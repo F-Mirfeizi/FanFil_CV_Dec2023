{
 "cells": [
  {
   "cell_type": "code",
   "execution_count": 1,
   "id": "779ec7f1",
   "metadata": {},
   "outputs": [
    {
     "data": {
      "text/plain": [
       "set"
      ]
     },
     "execution_count": 1,
     "metadata": {},
     "output_type": "execute_result"
    }
   ],
   "source": [
    "#SET\n",
    "set_1 = {'a', 'b', 'c', 'd'}\n",
    "type(set_1)"
   ]
  },
  {
   "cell_type": "code",
   "execution_count": 2,
   "id": "d11b7b65",
   "metadata": {},
   "outputs": [
    {
     "data": {
      "text/plain": [
       "4"
      ]
     },
     "execution_count": 2,
     "metadata": {},
     "output_type": "execute_result"
    }
   ],
   "source": [
    "len(set_1)"
   ]
  },
  {
   "cell_type": "code",
   "execution_count": 3,
   "id": "526bc874",
   "metadata": {},
   "outputs": [
    {
     "name": "stdout",
     "output_type": "stream",
     "text": [
      "b\n",
      "a\n",
      "c\n",
      "d\n"
     ]
    }
   ],
   "source": [
    "for element in set_1:\n",
    "    print(element)"
   ]
  },
  {
   "cell_type": "code",
   "execution_count": 5,
   "id": "acd203f0",
   "metadata": {},
   "outputs": [
    {
     "data": {
      "text/plain": [
       "{'a', 'b', 'c', 'd'}"
      ]
     },
     "execution_count": 5,
     "metadata": {},
     "output_type": "execute_result"
    }
   ],
   "source": [
    "set_1.discard('j')\n",
    "set_1"
   ]
  },
  {
   "cell_type": "code",
   "execution_count": 6,
   "id": "de5bbfb8",
   "metadata": {},
   "outputs": [
    {
     "data": {
      "text/plain": [
       "{'b', 'c', 'd'}"
      ]
     },
     "execution_count": 6,
     "metadata": {},
     "output_type": "execute_result"
    }
   ],
   "source": [
    "set_1.discard('a')\n",
    "set_1"
   ]
  },
  {
   "cell_type": "code",
   "execution_count": 8,
   "id": "794d2ede",
   "metadata": {},
   "outputs": [
    {
     "data": {
      "text/plain": [
       "{'c', 'd'}"
      ]
     },
     "execution_count": 8,
     "metadata": {},
     "output_type": "execute_result"
    }
   ],
   "source": [
    "set_1.remove('b')\n",
    "set_1\n"
   ]
  },
  {
   "cell_type": "code",
   "execution_count": 18,
   "id": "8d2e37a6",
   "metadata": {},
   "outputs": [
    {
     "data": {
      "text/plain": [
       "set()"
      ]
     },
     "execution_count": 18,
     "metadata": {},
     "output_type": "execute_result"
    }
   ],
   "source": [
    "set_1.clear()\n",
    "set_1"
   ]
  },
  {
   "cell_type": "code",
   "execution_count": 9,
   "id": "e774c73b",
   "metadata": {},
   "outputs": [
    {
     "data": {
      "text/plain": [
       "dict"
      ]
     },
     "execution_count": 9,
     "metadata": {},
     "output_type": "execute_result"
    }
   ],
   "source": [
    "set_2 = {} ##dictionary\n",
    "type(set_2)"
   ]
  },
  {
   "cell_type": "code",
   "execution_count": 10,
   "id": "03c7ef6d",
   "metadata": {},
   "outputs": [
    {
     "data": {
      "text/plain": [
       "set"
      ]
     },
     "execution_count": 10,
     "metadata": {},
     "output_type": "execute_result"
    }
   ],
   "source": [
    "set_mt = set()\n",
    "type(set_mt)"
   ]
  },
  {
   "cell_type": "code",
   "execution_count": 11,
   "id": "78ec76fe",
   "metadata": {},
   "outputs": [
    {
     "data": {
      "text/plain": [
       "list"
      ]
     },
     "execution_count": 11,
     "metadata": {},
     "output_type": "execute_result"
    }
   ],
   "source": [
    "lst = ['1', '2']\n",
    "type(lst)"
   ]
  },
  {
   "cell_type": "code",
   "execution_count": 12,
   "id": "a601d8c3",
   "metadata": {},
   "outputs": [
    {
     "data": {
      "text/plain": [
       "{'1', '2'}"
      ]
     },
     "execution_count": 12,
     "metadata": {},
     "output_type": "execute_result"
    }
   ],
   "source": [
    "cast_lst_to_set = set(lst)\n",
    "cast_lst_to_set"
   ]
  },
  {
   "cell_type": "code",
   "execution_count": 13,
   "id": "eeff8b47",
   "metadata": {},
   "outputs": [
    {
     "data": {
      "text/plain": [
       "['1', '2']"
      ]
     },
     "execution_count": 13,
     "metadata": {},
     "output_type": "execute_result"
    }
   ],
   "source": [
    "lst"
   ]
  },
  {
   "cell_type": "code",
   "execution_count": 14,
   "id": "f809487c",
   "metadata": {},
   "outputs": [
    {
     "data": {
      "text/plain": [
       "list"
      ]
     },
     "execution_count": 14,
     "metadata": {},
     "output_type": "execute_result"
    }
   ],
   "source": [
    "type(lst)"
   ]
  },
  {
   "cell_type": "code",
   "execution_count": 15,
   "id": "7fdbb074",
   "metadata": {},
   "outputs": [
    {
     "data": {
      "text/plain": [
       "set"
      ]
     },
     "execution_count": 15,
     "metadata": {},
     "output_type": "execute_result"
    }
   ],
   "source": [
    "type(cast_lst_to_set)"
   ]
  },
  {
   "cell_type": "code",
   "execution_count": 16,
   "id": "752f68af",
   "metadata": {},
   "outputs": [
    {
     "data": {
      "text/plain": [
       "True"
      ]
     },
     "execution_count": 16,
     "metadata": {},
     "output_type": "execute_result"
    }
   ],
   "source": [
    "'1' in lst"
   ]
  },
  {
   "cell_type": "code",
   "execution_count": 17,
   "id": "92a53b64",
   "metadata": {},
   "outputs": [
    {
     "data": {
      "text/plain": [
       "False"
      ]
     },
     "execution_count": 17,
     "metadata": {},
     "output_type": "execute_result"
    }
   ],
   "source": [
    "'3' in lst"
   ]
  },
  {
   "cell_type": "code",
   "execution_count": null,
   "id": "41538fb4",
   "metadata": {},
   "outputs": [],
   "source": [
    "#Function\n",
    "def func_sample():\n",
    "    #code ...."
   ]
  },
  {
   "cell_type": "code",
   "execution_count": 19,
   "id": "262843a6",
   "metadata": {},
   "outputs": [],
   "source": [
    "def greet():\n",
    "    print('Hi, How are you?')"
   ]
  },
  {
   "cell_type": "code",
   "execution_count": 21,
   "id": "7c843edf",
   "metadata": {},
   "outputs": [
    {
     "name": "stdout",
     "output_type": "stream",
     "text": [
      "Hi, How are you?\n",
      "Hi, How are you?\n",
      "Hi, How are you?\n"
     ]
    }
   ],
   "source": [
    "greet()\n",
    "greet()\n",
    "greet()"
   ]
  },
  {
   "cell_type": "code",
   "execution_count": 23,
   "id": "bdeb2751",
   "metadata": {},
   "outputs": [
    {
     "name": "stdout",
     "output_type": "stream",
     "text": [
      "Hi, How are you?\n"
     ]
    }
   ],
   "source": [
    "greet()"
   ]
  },
  {
   "cell_type": "code",
   "execution_count": 24,
   "id": "23792bb9",
   "metadata": {},
   "outputs": [],
   "source": [
    "#get the name!\n",
    "#say welcome, 'name'!\n",
    "\n",
    "def greet():\n",
    "    greet_message = 'Welcome, Guest!'\n",
    "    print(greet_message)"
   ]
  },
  {
   "cell_type": "code",
   "execution_count": 31,
   "id": "427eee59",
   "metadata": {},
   "outputs": [],
   "source": [
    "def greet(guest_name):\n",
    "    greet_message = 'Welcome' + ' ' + guest_name \n",
    "    print(greet_message)\n",
    "    "
   ]
  },
  {
   "cell_type": "code",
   "execution_count": 32,
   "id": "2f7b136a",
   "metadata": {},
   "outputs": [],
   "source": [
    "guest_1 = 'Miss Amini'\n",
    "guest_2 = 'Miss Reyhani'\n",
    "guest_3 = 'Mr Rezaei'\n"
   ]
  },
  {
   "cell_type": "code",
   "execution_count": 34,
   "id": "b46b3ac7",
   "metadata": {},
   "outputs": [
    {
     "name": "stdout",
     "output_type": "stream",
     "text": [
      "Welcome Miss Amini\n",
      "Welcome Miss Reyhani\n",
      "Welcome Mr Rezaei\n"
     ]
    }
   ],
   "source": [
    "greet(guest_1)\n",
    "greet(guest_2)\n",
    "greet(guest_3)"
   ]
  },
  {
   "cell_type": "code",
   "execution_count": 37,
   "id": "79970686",
   "metadata": {},
   "outputs": [],
   "source": [
    "def greet_format(guest_name):\n",
    "    greet_message = 'Welcome {0}'.format(guest_name)\n",
    "    print(greet_message)\n",
    "    "
   ]
  },
  {
   "cell_type": "code",
   "execution_count": 38,
   "id": "ff091cf9",
   "metadata": {},
   "outputs": [
    {
     "name": "stdout",
     "output_type": "stream",
     "text": [
      "Welcome Miss Amini\n"
     ]
    }
   ],
   "source": [
    "greet_format(guest_1)"
   ]
  },
  {
   "cell_type": "code",
   "execution_count": 39,
   "id": "5fc70e8a",
   "metadata": {},
   "outputs": [],
   "source": [
    "def greet_fstring(guest_name):\n",
    "    greet_message = f'Welcome {guest_name}'\n",
    "    print(greet_message)\n",
    "    "
   ]
  },
  {
   "cell_type": "code",
   "execution_count": 40,
   "id": "6b62ab3a",
   "metadata": {},
   "outputs": [
    {
     "name": "stdout",
     "output_type": "stream",
     "text": [
      "Welcome Miss Reyhani\n"
     ]
    }
   ],
   "source": [
    "greet_fstring(guest_2)"
   ]
  },
  {
   "cell_type": "code",
   "execution_count": 43,
   "id": "dee90789",
   "metadata": {},
   "outputs": [
    {
     "name": "stdout",
     "output_type": "stream",
     "text": [
      "True\n",
      "False\n"
     ]
    }
   ],
   "source": [
    "#Question_Pedram\n",
    "\n",
    "lst_q=[1,2,['salam']]\n",
    "\n",
    "\n",
    "#How to check list in the another list!\n",
    "print(['salam'] in lst_q)\n",
    "\n",
    "# How to check string in to the another list!\n",
    "print('salam' in lst_q)\n"
   ]
  },
  {
   "cell_type": "code",
   "execution_count": 47,
   "id": "0ad7bd60",
   "metadata": {},
   "outputs": [
    {
     "name": "stdout",
     "output_type": "stream",
     "text": [
      "True\n"
     ]
    }
   ],
   "source": [
    "for element in lst_q:\n",
    "    if type(element) == list:\n",
    "        print('salam' in element)"
   ]
  },
  {
   "cell_type": "code",
   "execution_count": 53,
   "id": "69680d55",
   "metadata": {},
   "outputs": [],
   "source": [
    "def multiplication(a, b, c):\n",
    "    res = a * b * c\n",
    "    print(res)\n",
    "    return res"
   ]
  },
  {
   "cell_type": "code",
   "execution_count": 54,
   "id": "d8a3cd8f",
   "metadata": {},
   "outputs": [
    {
     "name": "stdout",
     "output_type": "stream",
     "text": [
      "24\n"
     ]
    }
   ],
   "source": [
    "mult = multiplication(2, 3, 4)"
   ]
  },
  {
   "cell_type": "code",
   "execution_count": 55,
   "id": "d83945b9",
   "metadata": {},
   "outputs": [
    {
     "name": "stdout",
     "output_type": "stream",
     "text": [
      "24\n"
     ]
    }
   ],
   "source": [
    "print(mult)"
   ]
  },
  {
   "cell_type": "code",
   "execution_count": 62,
   "id": "cf4d4ded",
   "metadata": {},
   "outputs": [],
   "source": [
    "def pot_energy(m,h, g=9.8):\n",
    "    pe = m*g*h\n",
    "    return pe"
   ]
  },
  {
   "cell_type": "code",
   "execution_count": 63,
   "id": "9c8362b3",
   "metadata": {},
   "outputs": [
    {
     "data": {
      "text/plain": [
       "147.0"
      ]
     },
     "execution_count": 63,
     "metadata": {},
     "output_type": "execute_result"
    }
   ],
   "source": [
    "pot_energy(3, 5)"
   ]
  },
  {
   "cell_type": "code",
   "execution_count": 65,
   "id": "4029079c",
   "metadata": {},
   "outputs": [
    {
     "name": "stdout",
     "output_type": "stream",
     "text": [
      "50\n"
     ]
    }
   ],
   "source": [
    "#def multiplication(a, b, c):\n",
    " #   res = a * b * c\n",
    "  #  return res\n",
    "\n",
    "a=2\n",
    "b=5\n",
    "\n",
    "v = lambda a, b, c=5 : a * b * c\n",
    "\n",
    "print(v(a, b))"
   ]
  },
  {
   "cell_type": "code",
   "execution_count": 66,
   "id": "81ae65a5",
   "metadata": {},
   "outputs": [
    {
     "data": {
      "text/plain": [
       "20"
      ]
     },
     "execution_count": 66,
     "metadata": {},
     "output_type": "execute_result"
    }
   ],
   "source": [
    "def func_one(a,b):\n",
    "    return a*b\n",
    "\n",
    "def func_two(func_sample):\n",
    "    return func_sample*2\n",
    "\n",
    "func_two(func_one(2, 5))\n",
    "    "
   ]
  },
  {
   "cell_type": "code",
   "execution_count": null,
   "id": "02f68f5c",
   "metadata": {},
   "outputs": [],
   "source": []
  },
  {
   "cell_type": "code",
   "execution_count": 71,
   "id": "e76c067f",
   "metadata": {},
   "outputs": [
    {
     "name": "stdout",
     "output_type": "stream",
     "text": [
      "T\n",
      "h\n",
      "36\n",
      "True\n"
     ]
    }
   ],
   "source": [
    "#string\n",
    "s = 'This a CV School for a bright future'\n",
    "print(s[0])\n",
    "print(s[1])\n",
    "\n",
    "print(len(s))\n",
    "\n",
    "print('CV' in s)\n",
    "#print('cv' in s)"
   ]
  },
  {
   "cell_type": "code",
   "execution_count": 73,
   "id": "f6ac7f68",
   "metadata": {},
   "outputs": [
    {
     "name": "stdout",
     "output_type": "stream",
     "text": [
      "Hello, Jafar \n"
     ]
    }
   ],
   "source": [
    "name = 'Jafar '\n",
    "greeting = f'Hello, {name}'\n",
    "print(greeting)"
   ]
  },
  {
   "cell_type": "code",
   "execution_count": 74,
   "id": "e9286f60",
   "metadata": {},
   "outputs": [
    {
     "name": "stdout",
     "output_type": "stream",
     "text": [
      "Hello, JAFAR \n"
     ]
    }
   ],
   "source": [
    "name = 'Jafar '\n",
    "greeting = f'Hello, {name.upper()}'\n",
    "print(greeting)"
   ]
  },
  {
   "cell_type": "code",
   "execution_count": 84,
   "id": "e5df09de",
   "metadata": {},
   "outputs": [
    {
     "data": {
      "text/plain": [
       "'000200'"
      ]
     },
     "execution_count": 84,
     "metadata": {},
     "output_type": "execute_result"
    }
   ],
   "source": [
    "num = 200\n",
    "f'{num:06}'"
   ]
  },
  {
   "cell_type": "code",
   "execution_count": 86,
   "id": "176a624b",
   "metadata": {},
   "outputs": [
    {
     "data": {
      "text/plain": [
       "'200.00'"
      ]
     },
     "execution_count": 86,
     "metadata": {},
     "output_type": "execute_result"
    }
   ],
   "source": [
    "num = 200\n",
    "f'{num:0.2f}'"
   ]
  },
  {
   "cell_type": "code",
   "execution_count": 88,
   "id": "32923833",
   "metadata": {},
   "outputs": [
    {
     "data": {
      "text/plain": [
       "'your ticket price is  5000.0'"
      ]
     },
     "execution_count": 88,
     "metadata": {},
     "output_type": "execute_result"
    }
   ],
   "source": [
    "ticket_price = 5000\n",
    "f'your ticket price is {ticket_price: 0.1f}'"
   ]
  },
  {
   "cell_type": "code",
   "execution_count": 95,
   "id": "a91397e8",
   "metadata": {},
   "outputs": [
    {
     "name": "stdout",
     "output_type": "stream",
     "text": [
      "Python's owesome. She said\n"
     ]
    }
   ],
   "source": [
    "# Python's owesome. She said!\n",
    "txt = 'Python\\'s owesome. She said'\n",
    "print(txt)"
   ]
  },
  {
   "cell_type": "code",
   "execution_count": 96,
   "id": "ffba63e6",
   "metadata": {},
   "outputs": [
    {
     "name": "stdout",
     "output_type": "stream",
     "text": [
      "Home\\Document\n",
      "otebooks\table\n"
     ]
    }
   ],
   "source": [
    "#Home\\Document\\notebooks\\table\n",
    "PATH = 'Home\\Document\\notebooks\\table'\n",
    "print(PATH)\n",
    "\n",
    "# \\n : new line\n",
    "# \\t : tab"
   ]
  },
  {
   "cell_type": "code",
   "execution_count": 97,
   "id": "f6b63921",
   "metadata": {},
   "outputs": [
    {
     "name": "stdout",
     "output_type": "stream",
     "text": [
      "Home\\Document\\notebooks\\table\n"
     ]
    }
   ],
   "source": [
    "PATH = 'Home\\Document\\\\notebooks\\\\table'\n",
    "print(PATH)"
   ]
  },
  {
   "cell_type": "code",
   "execution_count": 98,
   "id": "7c280337",
   "metadata": {},
   "outputs": [
    {
     "name": "stdout",
     "output_type": "stream",
     "text": [
      "Home\\Document\\notebooks\\table\n"
     ]
    }
   ],
   "source": [
    "#raw string\n",
    "PATH = r'Home\\Document\\notebooks\\table'\n",
    "print(PATH)"
   ]
  },
  {
   "cell_type": "code",
   "execution_count": 103,
   "id": "b8bca330",
   "metadata": {},
   "outputs": [],
   "source": [
    "#Exception Handling\n",
    "\n",
    "def division(a, b):\n",
    "    if b==0:\n",
    "        x = 'you must change the value of b'\n",
    "    else:\n",
    "        x = a/b\n",
    "    return x"
   ]
  },
  {
   "cell_type": "code",
   "execution_count": 104,
   "id": "5e2b57fa",
   "metadata": {},
   "outputs": [
    {
     "data": {
      "text/plain": [
       "4.0"
      ]
     },
     "execution_count": 104,
     "metadata": {},
     "output_type": "execute_result"
    }
   ],
   "source": [
    "division(8, 2)"
   ]
  },
  {
   "cell_type": "code",
   "execution_count": 105,
   "id": "ee31482f",
   "metadata": {},
   "outputs": [
    {
     "data": {
      "text/plain": [
       "'you must change the value of b'"
      ]
     },
     "execution_count": 105,
     "metadata": {},
     "output_type": "execute_result"
    }
   ],
   "source": [
    "division(8, 0)"
   ]
  },
  {
   "cell_type": "code",
   "execution_count": 106,
   "id": "1342b25a",
   "metadata": {},
   "outputs": [
    {
     "ename": "TypeError",
     "evalue": "unsupported operand type(s) for /: 'int' and 'str'",
     "output_type": "error",
     "traceback": [
      "\u001b[0;31m---------------------------------------------------------------------------\u001b[0m",
      "\u001b[0;31mTypeError\u001b[0m                                 Traceback (most recent call last)",
      "\u001b[0;32m/tmp/ipykernel_32565/2305317422.py\u001b[0m in \u001b[0;36m<module>\u001b[0;34m\u001b[0m\n\u001b[0;32m----> 1\u001b[0;31m \u001b[0mdivision\u001b[0m\u001b[0;34m(\u001b[0m\u001b[0;36m8\u001b[0m\u001b[0;34m,\u001b[0m \u001b[0;34m'2'\u001b[0m\u001b[0;34m)\u001b[0m\u001b[0;34m\u001b[0m\u001b[0;34m\u001b[0m\u001b[0m\n\u001b[0m",
      "\u001b[0;32m/tmp/ipykernel_32565/1968865067.py\u001b[0m in \u001b[0;36mdivision\u001b[0;34m(a, b)\u001b[0m\n\u001b[1;32m      5\u001b[0m         \u001b[0mx\u001b[0m \u001b[0;34m=\u001b[0m \u001b[0;34m'you must change the value of b'\u001b[0m\u001b[0;34m\u001b[0m\u001b[0;34m\u001b[0m\u001b[0m\n\u001b[1;32m      6\u001b[0m     \u001b[0;32melse\u001b[0m\u001b[0;34m:\u001b[0m\u001b[0;34m\u001b[0m\u001b[0;34m\u001b[0m\u001b[0m\n\u001b[0;32m----> 7\u001b[0;31m         \u001b[0mx\u001b[0m \u001b[0;34m=\u001b[0m \u001b[0ma\u001b[0m\u001b[0;34m/\u001b[0m\u001b[0mb\u001b[0m\u001b[0;34m\u001b[0m\u001b[0;34m\u001b[0m\u001b[0m\n\u001b[0m\u001b[1;32m      8\u001b[0m     \u001b[0;32mreturn\u001b[0m \u001b[0mx\u001b[0m\u001b[0;34m\u001b[0m\u001b[0;34m\u001b[0m\u001b[0m\n",
      "\u001b[0;31mTypeError\u001b[0m: unsupported operand type(s) for /: 'int' and 'str'"
     ]
    }
   ],
   "source": [
    "#division(8, '2')"
   ]
  },
  {
   "cell_type": "code",
   "execution_count": 107,
   "id": "dc17e592",
   "metadata": {},
   "outputs": [],
   "source": [
    "#Exception Handling\n",
    "\n",
    "def division(a, b):\n",
    "    try:\n",
    "        x = a/b\n",
    "    except:\n",
    "        x = 'you must change the value of b'\n",
    "        \n",
    "    return x"
   ]
  },
  {
   "cell_type": "code",
   "execution_count": 108,
   "id": "787f44b8",
   "metadata": {},
   "outputs": [
    {
     "data": {
      "text/plain": [
       "'you must change the value of b'"
      ]
     },
     "execution_count": 108,
     "metadata": {},
     "output_type": "execute_result"
    }
   ],
   "source": [
    "division(8, 0)"
   ]
  },
  {
   "cell_type": "code",
   "execution_count": 109,
   "id": "12d3ad6d",
   "metadata": {},
   "outputs": [
    {
     "data": {
      "text/plain": [
       "'you must change the value of b'"
      ]
     },
     "execution_count": 109,
     "metadata": {},
     "output_type": "execute_result"
    }
   ],
   "source": [
    "division(8, '2')"
   ]
  },
  {
   "cell_type": "code",
   "execution_count": 110,
   "id": "08f9fd7e",
   "metadata": {},
   "outputs": [
    {
     "data": {
      "text/plain": [
       "4.0"
      ]
     },
     "execution_count": 110,
     "metadata": {},
     "output_type": "execute_result"
    }
   ],
   "source": [
    "division(8, 2)"
   ]
  },
  {
   "cell_type": "code",
   "execution_count": 133,
   "id": "12445a01",
   "metadata": {},
   "outputs": [],
   "source": [
    "def division(a, b):\n",
    "    a = int(a)\n",
    "    b = int(b)\n",
    "    try:\n",
    "        x = a/b\n",
    "    except ZeroDivisionError as error :\n",
    "        x = error\n",
    "        \n",
    "       # print(x)\n",
    "    except ValueError as verror:\n",
    "        x = verror\n",
    "    except Exception as ex:\n",
    "        x = ex\n",
    "        \n",
    "    return x"
   ]
  },
  {
   "cell_type": "code",
   "execution_count": 134,
   "id": "cc46a74c",
   "metadata": {},
   "outputs": [
    {
     "data": {
      "text/plain": [
       "ZeroDivisionError('division by zero')"
      ]
     },
     "execution_count": 134,
     "metadata": {},
     "output_type": "execute_result"
    }
   ],
   "source": [
    "division(8, 0)"
   ]
  },
  {
   "cell_type": "code",
   "execution_count": 135,
   "id": "68f3d655",
   "metadata": {},
   "outputs": [
    {
     "data": {
      "text/plain": [
       "4.0"
      ]
     },
     "execution_count": 135,
     "metadata": {},
     "output_type": "execute_result"
    }
   ],
   "source": [
    "division(8, '2')"
   ]
  },
  {
   "cell_type": "code",
   "execution_count": 136,
   "id": "32bd9265",
   "metadata": {},
   "outputs": [],
   "source": [
    "#Iteration\n",
    "\n",
    "def multiply_simple(a, b):\n",
    "    return a*b\n",
    "\n",
    "def multiply_iter(a, b):\n",
    "    result = 0\n",
    "    for i in range(b):\n",
    "        result += a\n",
    "        \n",
    "    return result\n",
    "\n"
   ]
  },
  {
   "cell_type": "code",
   "execution_count": 137,
   "id": "01385520",
   "metadata": {},
   "outputs": [
    {
     "data": {
      "text/plain": [
       "6"
      ]
     },
     "execution_count": 137,
     "metadata": {},
     "output_type": "execute_result"
    }
   ],
   "source": [
    "multiply_simple(2, 3)"
   ]
  },
  {
   "cell_type": "code",
   "execution_count": 138,
   "id": "f5ee1fef",
   "metadata": {},
   "outputs": [
    {
     "data": {
      "text/plain": [
       "6"
      ]
     },
     "execution_count": 138,
     "metadata": {},
     "output_type": "execute_result"
    }
   ],
   "source": [
    "multiply_iter(2, 3)"
   ]
  },
  {
   "cell_type": "code",
   "execution_count": 142,
   "id": "9121d26d",
   "metadata": {},
   "outputs": [],
   "source": [
    "#Recursion\n",
    "def multiply_recur(a, b):\n",
    "    if b==1:\n",
    "        return a\n",
    "    else:\n",
    "        return (a + multiply_recur(a, b-1))"
   ]
  },
  {
   "cell_type": "code",
   "execution_count": 143,
   "id": "63293c6d",
   "metadata": {},
   "outputs": [
    {
     "data": {
      "text/plain": [
       "6"
      ]
     },
     "execution_count": 143,
     "metadata": {},
     "output_type": "execute_result"
    }
   ],
   "source": [
    "multiply_recur(2, 3)"
   ]
  },
  {
   "cell_type": "code",
   "execution_count": 144,
   "id": "b4936dc2",
   "metadata": {},
   "outputs": [],
   "source": [
    "#File\n",
    "\n",
    "f=open('firstfile.txt', 'x')\n"
   ]
  },
  {
   "cell_type": "code",
   "execution_count": 145,
   "id": "9c3b03d5",
   "metadata": {},
   "outputs": [
    {
     "data": {
      "text/plain": [
       "10"
      ]
     },
     "execution_count": 145,
     "metadata": {},
     "output_type": "execute_result"
    }
   ],
   "source": [
    "f.write('first line')"
   ]
  },
  {
   "cell_type": "code",
   "execution_count": 146,
   "id": "636e771e",
   "metadata": {},
   "outputs": [],
   "source": [
    "f.close()"
   ]
  },
  {
   "cell_type": "code",
   "execution_count": 147,
   "id": "410d40b2",
   "metadata": {},
   "outputs": [],
   "source": [
    "#File\n",
    "\n",
    "f=open('firstfile.txt', 'w')\n",
    "f.write('second line')\n",
    "f.close()\n"
   ]
  },
  {
   "cell_type": "code",
   "execution_count": 148,
   "id": "adce3738",
   "metadata": {},
   "outputs": [],
   "source": [
    "#File\n",
    "\n",
    "f=open('firstfile.txt', 'a')\n",
    "f.write('third line')\n",
    "f.close()\n"
   ]
  },
  {
   "cell_type": "code",
   "execution_count": 149,
   "id": "827aef6b",
   "metadata": {},
   "outputs": [],
   "source": [
    "#File\n",
    "\n",
    "f=open('firstfile.txt', 'a')\n",
    "f.write('\\n third line')\n",
    "f.close()\n"
   ]
  },
  {
   "cell_type": "code",
   "execution_count": 150,
   "id": "bc58b683",
   "metadata": {},
   "outputs": [],
   "source": [
    "import os\n",
    "if os.path.exists('firstfile.txt'):\n",
    "    os.remove('firstfile.txt')"
   ]
  },
  {
   "cell_type": "code",
   "execution_count": 159,
   "id": "7d728b1e",
   "metadata": {},
   "outputs": [
    {
     "name": "stdout",
     "output_type": "stream",
     "text": [
      "[1 2 3]\n"
     ]
    }
   ],
   "source": [
    "import numpy as np\n",
    "\n",
    "arr = np.array([1, 2, 3])\n",
    "print(arr)"
   ]
  },
  {
   "cell_type": "code",
   "execution_count": 160,
   "id": "968a19d2",
   "metadata": {},
   "outputs": [
    {
     "data": {
      "text/plain": [
       "numpy.ndarray"
      ]
     },
     "execution_count": 160,
     "metadata": {},
     "output_type": "execute_result"
    }
   ],
   "source": [
    "type(arr)"
   ]
  },
  {
   "cell_type": "code",
   "execution_count": 161,
   "id": "257215d8",
   "metadata": {},
   "outputs": [
    {
     "data": {
      "text/plain": [
       "1"
      ]
     },
     "execution_count": 161,
     "metadata": {},
     "output_type": "execute_result"
    }
   ],
   "source": [
    "arr.ndim"
   ]
  },
  {
   "cell_type": "code",
   "execution_count": 162,
   "id": "44f7298b",
   "metadata": {},
   "outputs": [
    {
     "data": {
      "text/plain": [
       "dtype('int64')"
      ]
     },
     "execution_count": 162,
     "metadata": {},
     "output_type": "execute_result"
    }
   ],
   "source": [
    "arr.dtype"
   ]
  },
  {
   "cell_type": "code",
   "execution_count": 163,
   "id": "d0745edb",
   "metadata": {},
   "outputs": [
    {
     "data": {
      "text/plain": [
       "dtype('float16')"
      ]
     },
     "execution_count": 163,
     "metadata": {},
     "output_type": "execute_result"
    }
   ],
   "source": [
    "arr_2 = np.array([1, 2, 3], dtype=np.float16)\n",
    "arr_2.dtype"
   ]
  },
  {
   "cell_type": "code",
   "execution_count": 167,
   "id": "c0debecb",
   "metadata": {},
   "outputs": [],
   "source": [
    "arr_2d = np.array([\n",
    " [1, 2, 3], \n",
    " [4, 5, 6], \n",
    " [7, 8, 9], \n",
    " [10, 11, 12]\n",
    "])"
   ]
  },
  {
   "cell_type": "code",
   "execution_count": 168,
   "id": "07154288",
   "metadata": {},
   "outputs": [
    {
     "data": {
      "text/plain": [
       "2"
      ]
     },
     "execution_count": 168,
     "metadata": {},
     "output_type": "execute_result"
    }
   ],
   "source": [
    "arr_2d.ndim"
   ]
  },
  {
   "cell_type": "code",
   "execution_count": 169,
   "id": "100e703b",
   "metadata": {},
   "outputs": [
    {
     "data": {
      "text/plain": [
       "(4, 3)"
      ]
     },
     "execution_count": 169,
     "metadata": {},
     "output_type": "execute_result"
    }
   ],
   "source": [
    "arr_2d.shape"
   ]
  },
  {
   "cell_type": "code",
   "execution_count": 171,
   "id": "960fbd74",
   "metadata": {},
   "outputs": [],
   "source": [
    "arr_3d = np.array([\n",
    "    [[1, 2, 3],\n",
    "     [4, 5, 6]], \n",
    "    [['a', 'b', 'c'], \n",
    "    ['d', 'e', 'f']]   \n",
    "])"
   ]
  },
  {
   "cell_type": "code",
   "execution_count": 172,
   "id": "f18e5524",
   "metadata": {},
   "outputs": [
    {
     "data": {
      "text/plain": [
       "3"
      ]
     },
     "execution_count": 172,
     "metadata": {},
     "output_type": "execute_result"
    }
   ],
   "source": [
    "arr_3d.ndim"
   ]
  },
  {
   "cell_type": "code",
   "execution_count": 173,
   "id": "c1e89f93",
   "metadata": {},
   "outputs": [
    {
     "data": {
      "text/plain": [
       "(2, 2, 3)"
      ]
     },
     "execution_count": 173,
     "metadata": {},
     "output_type": "execute_result"
    }
   ],
   "source": [
    "arr_3d.shape"
   ]
  },
  {
   "cell_type": "code",
   "execution_count": 174,
   "id": "7f341776",
   "metadata": {},
   "outputs": [
    {
     "data": {
      "text/plain": [
       "array([[0, 0, 0],\n",
       "       [0, 0, 0]], dtype=int32)"
      ]
     },
     "execution_count": 174,
     "metadata": {},
     "output_type": "execute_result"
    }
   ],
   "source": [
    "arr_zero = np.zeros((2, 3), dtype=np.int32)\n",
    "arr_zero"
   ]
  },
  {
   "cell_type": "code",
   "execution_count": 175,
   "id": "468f9be2",
   "metadata": {},
   "outputs": [
    {
     "data": {
      "text/plain": [
       "array([[1, 1, 1, 1],\n",
       "       [1, 1, 1, 1],\n",
       "       [1, 1, 1, 1],\n",
       "       [1, 1, 1, 1],\n",
       "       [1, 1, 1, 1]], dtype=int32)"
      ]
     },
     "execution_count": 175,
     "metadata": {},
     "output_type": "execute_result"
    }
   ],
   "source": [
    "arr_one = np.ones((5, 4), dtype=np.int32)\n",
    "arr_one"
   ]
  },
  {
   "cell_type": "code",
   "execution_count": null,
   "id": "2972012b",
   "metadata": {},
   "outputs": [],
   "source": []
  },
  {
   "cell_type": "code",
   "execution_count": null,
   "id": "6f5aa4a0",
   "metadata": {},
   "outputs": [],
   "source": []
  }
 ],
 "metadata": {
  "kernelspec": {
   "display_name": "Python 3 (ipykernel)",
   "language": "python",
   "name": "python3"
  },
  "language_info": {
   "codemirror_mode": {
    "name": "ipython",
    "version": 3
   },
   "file_extension": ".py",
   "mimetype": "text/x-python",
   "name": "python",
   "nbconvert_exporter": "python",
   "pygments_lexer": "ipython3",
   "version": "3.10.12"
  }
 },
 "nbformat": 4,
 "nbformat_minor": 5
}
